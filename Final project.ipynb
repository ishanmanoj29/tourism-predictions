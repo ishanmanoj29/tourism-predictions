{
 "cells": [
  {
   "cell_type": "code",
   "execution_count": 24,
   "id": "7301f16f",
   "metadata": {},
   "outputs": [],
   "source": [
    "import numpy as np\n",
    "import pandas as pd\n",
    "import matplotlib.pyplot as plt\n",
    "from sklearn.metrics import mean_squared_error"
   ]
  },
  {
   "cell_type": "code",
   "execution_count": 25,
   "id": "55dd0a91",
   "metadata": {},
   "outputs": [],
   "source": [
    "tourist_data=pd.read_csv(\"CSVfiles//tourist_data.csv\")"
   ]
  },
  {
   "cell_type": "code",
   "execution_count": 26,
   "id": "e067fccd",
   "metadata": {},
   "outputs": [
    {
     "data": {
      "text/html": [
       "<div>\n",
       "<style scoped>\n",
       "    .dataframe tbody tr th:only-of-type {\n",
       "        vertical-align: middle;\n",
       "    }\n",
       "\n",
       "    .dataframe tbody tr th {\n",
       "        vertical-align: top;\n",
       "    }\n",
       "\n",
       "    .dataframe thead th {\n",
       "        text-align: right;\n",
       "    }\n",
       "</style>\n",
       "<table border=\"1\" class=\"dataframe\">\n",
       "  <thead>\n",
       "    <tr style=\"text-align: right;\">\n",
       "      <th></th>\n",
       "      <th>Year</th>\n",
       "      <th>Seasons</th>\n",
       "      <th>States</th>\n",
       "      <th>Visitors</th>\n",
       "    </tr>\n",
       "  </thead>\n",
       "  <tbody>\n",
       "    <tr>\n",
       "      <th>0</th>\n",
       "      <td>2001</td>\n",
       "      <td>0</td>\n",
       "      <td>GJ</td>\n",
       "      <td>38057</td>\n",
       "    </tr>\n",
       "    <tr>\n",
       "      <th>1</th>\n",
       "      <td>2001</td>\n",
       "      <td>1</td>\n",
       "      <td>GJ</td>\n",
       "      <td>38088</td>\n",
       "    </tr>\n",
       "    <tr>\n",
       "      <th>2</th>\n",
       "      <td>2001</td>\n",
       "      <td>2</td>\n",
       "      <td>GJ</td>\n",
       "      <td>36788</td>\n",
       "    </tr>\n",
       "    <tr>\n",
       "      <th>3</th>\n",
       "      <td>2001</td>\n",
       "      <td>3</td>\n",
       "      <td>GJ</td>\n",
       "      <td>29618</td>\n",
       "    </tr>\n",
       "    <tr>\n",
       "      <th>4</th>\n",
       "      <td>2001</td>\n",
       "      <td>0</td>\n",
       "      <td>AP</td>\n",
       "      <td>36554</td>\n",
       "    </tr>\n",
       "  </tbody>\n",
       "</table>\n",
       "</div>"
      ],
      "text/plain": [
       "   Year  Seasons States  Visitors\n",
       "0  2001        0     GJ     38057\n",
       "1  2001        1     GJ     38088\n",
       "2  2001        2     GJ     36788\n",
       "3  2001        3     GJ     29618\n",
       "4  2001        0     AP     36554"
      ]
     },
     "execution_count": 26,
     "metadata": {},
     "output_type": "execute_result"
    }
   ],
   "source": [
    "tourist_data.head()"
   ]
  },
  {
   "cell_type": "code",
   "execution_count": 27,
   "id": "2277977f",
   "metadata": {},
   "outputs": [
    {
     "name": "stdout",
     "output_type": "stream",
     "text": [
      "<class 'pandas.core.frame.DataFrame'>\n",
      "RangeIndex: 2552 entries, 0 to 2551\n",
      "Data columns (total 4 columns):\n",
      " #   Column    Non-Null Count  Dtype \n",
      "---  ------    --------------  ----- \n",
      " 0   Year      2552 non-null   int64 \n",
      " 1   Seasons   2552 non-null   int64 \n",
      " 2   States    2552 non-null   object\n",
      " 3   Visitors  2552 non-null   int64 \n",
      "dtypes: int64(3), object(1)\n",
      "memory usage: 79.9+ KB\n"
     ]
    }
   ],
   "source": [
    "tourist_data.info()"
   ]
  },
  {
   "cell_type": "code",
   "execution_count": 28,
   "id": "0f72ba4a",
   "metadata": {},
   "outputs": [
    {
     "name": "stdout",
     "output_type": "stream",
     "text": [
      "\n",
      "\n"
     ]
    }
   ],
   "source": [
    "x = tourist_data.iloc[:,0:3].values\n",
    "print('\\n')\n",
    "y = tourist_data.iloc[:,-1].values\n",
    "# print(x,y)"
   ]
  },
  {
   "cell_type": "code",
   "execution_count": 29,
   "id": "2b4bf5f2",
   "metadata": {},
   "outputs": [
    {
     "data": {
      "text/plain": [
       "array(['GJ', 'GJ', 'GJ', 'GJ', 'AP', 'AP', 'AP', 'AP', 'HR', 'HR', 'HR',\n",
       "       'HR', 'MN', 'MN', 'MN', 'MN', 'SK', 'SK', 'SK', 'SK', 'AR', 'AR',\n",
       "       'AR', 'AR', 'HP', 'HP', 'HP', 'HP', 'ML', 'ML', 'ML', 'ML', 'TN',\n",
       "       'TN', 'TN', 'TN', 'AS', 'AS', 'AS', 'AS', 'JH', 'JH', 'JH', 'JH',\n",
       "       'TG', 'TG', 'TG', 'TG', 'MZ', 'MZ', 'MZ', 'MZ', 'BR', 'BR', 'BR',\n",
       "       'BR', 'KA', 'KA', 'KA', 'KA', 'NL', 'NL', 'NL', 'NL', 'TR', 'TR',\n",
       "       'TR', 'TR', 'CG', 'CG', 'CG', 'CG', 'KL', 'KL', 'KL', 'KL', 'OR',\n",
       "       'OR', 'OR', 'OR', 'UK', 'UK', 'UK', 'UK', 'GA', 'GA', 'GA', 'GA',\n",
       "       'MP', 'MP', 'MP', 'MP', 'PB', 'PB', 'PB', 'PB', 'UP', 'UP', 'UP',\n",
       "       'UP', 'MH', 'MH', 'MH', 'MH', 'RJ', 'RJ', 'RJ', 'RJ', 'WB', 'WB',\n",
       "       'WB', 'WB', 'JK', 'JK', 'JK', 'JK'], dtype=object)"
      ]
     },
     "execution_count": 29,
     "metadata": {},
     "output_type": "execute_result"
    }
   ],
   "source": [
    "# tourist_data.iloc[:,-2].value_counts()\n",
    "x[:116,2]"
   ]
  },
  {
   "cell_type": "code",
   "execution_count": 30,
   "id": "e69f3b8f",
   "metadata": {},
   "outputs": [
    {
     "data": {
      "text/plain": [
       "array([6, 6, 6, 6, 0, 0, 0, 0, 8, 8, 8, 8, 15, 15, 15, 15, 22, 22, 22, 22,\n",
       "       1, 1, 1, 1, 7, 7, 7, 7, 14, 14, 14, 14, 24, 24, 24, 24, 2, 2, 2, 2,\n",
       "       9, 9, 9, 9, 23, 23, 23, 23, 17, 17, 17, 17, 3, 3, 3, 3, 11, 11, 11,\n",
       "       11, 18, 18, 18, 18, 25, 25, 25, 25, 4, 4, 4, 4, 12, 12, 12, 12, 19,\n",
       "       19, 19, 19, 26, 26, 26, 26, 5, 5, 5, 5, 16, 16, 16, 16, 20, 20, 20,\n",
       "       20, 27, 27, 27, 27, 13, 13, 13, 13, 21, 21, 21, 21, 28, 28, 28, 28,\n",
       "       10, 10, 10, 10], dtype=object)"
      ]
     },
     "execution_count": 30,
     "metadata": {},
     "output_type": "execute_result"
    }
   ],
   "source": [
    "from sklearn.preprocessing import LabelEncoder\n",
    "le1 = LabelEncoder()\n",
    "x[:,2] = le1.fit_transform(x[:,2])\n",
    "x[:116,2]"
   ]
  },
  {
   "cell_type": "markdown",
   "id": "73342c53",
   "metadata": {},
   "source": [
    "# Training"
   ]
  },
  {
   "cell_type": "code",
   "execution_count": 31,
   "id": "50b3449b",
   "metadata": {},
   "outputs": [],
   "source": [
    "from sklearn.model_selection import train_test_split\n",
    "x_train, x_test, y_train, y_test = train_test_split(x,y,test_size=0.2,random_state=42)"
   ]
  },
  {
   "cell_type": "code",
   "execution_count": 32,
   "id": "18e5bc52",
   "metadata": {
    "scrolled": true
   },
   "outputs": [
    {
     "name": "stdout",
     "output_type": "stream",
     "text": [
      "Rows in train set : 2041 \n",
      "Rows in test set : 511\n",
      "Rows in train set : 2041 \n",
      "Rows in test set : 511\n"
     ]
    }
   ],
   "source": [
    "print(f\"Rows in train set : {len(x_train)} \\nRows in test set : {len(x_test)}\")\n",
    "print(f\"Rows in train set : {len(y_train)} \\nRows in test set : {len(y_test)}\")"
   ]
  },
  {
   "cell_type": "code",
   "execution_count": 33,
   "id": "f4c188eb",
   "metadata": {},
   "outputs": [],
   "source": [
    "# print(x_train)\n",
    "# print(y_train)"
   ]
  },
  {
   "cell_type": "code",
   "execution_count": 34,
   "id": "d7432839",
   "metadata": {},
   "outputs": [
    {
     "data": {
      "text/html": [
       "<style>#sk-container-id-2 {color: black;}#sk-container-id-2 pre{padding: 0;}#sk-container-id-2 div.sk-toggleable {background-color: white;}#sk-container-id-2 label.sk-toggleable__label {cursor: pointer;display: block;width: 100%;margin-bottom: 0;padding: 0.3em;box-sizing: border-box;text-align: center;}#sk-container-id-2 label.sk-toggleable__label-arrow:before {content: \"▸\";float: left;margin-right: 0.25em;color: #696969;}#sk-container-id-2 label.sk-toggleable__label-arrow:hover:before {color: black;}#sk-container-id-2 div.sk-estimator:hover label.sk-toggleable__label-arrow:before {color: black;}#sk-container-id-2 div.sk-toggleable__content {max-height: 0;max-width: 0;overflow: hidden;text-align: left;background-color: #f0f8ff;}#sk-container-id-2 div.sk-toggleable__content pre {margin: 0.2em;color: black;border-radius: 0.25em;background-color: #f0f8ff;}#sk-container-id-2 input.sk-toggleable__control:checked~div.sk-toggleable__content {max-height: 200px;max-width: 100%;overflow: auto;}#sk-container-id-2 input.sk-toggleable__control:checked~label.sk-toggleable__label-arrow:before {content: \"▾\";}#sk-container-id-2 div.sk-estimator input.sk-toggleable__control:checked~label.sk-toggleable__label {background-color: #d4ebff;}#sk-container-id-2 div.sk-label input.sk-toggleable__control:checked~label.sk-toggleable__label {background-color: #d4ebff;}#sk-container-id-2 input.sk-hidden--visually {border: 0;clip: rect(1px 1px 1px 1px);clip: rect(1px, 1px, 1px, 1px);height: 1px;margin: -1px;overflow: hidden;padding: 0;position: absolute;width: 1px;}#sk-container-id-2 div.sk-estimator {font-family: monospace;background-color: #f0f8ff;border: 1px dotted black;border-radius: 0.25em;box-sizing: border-box;margin-bottom: 0.5em;}#sk-container-id-2 div.sk-estimator:hover {background-color: #d4ebff;}#sk-container-id-2 div.sk-parallel-item::after {content: \"\";width: 100%;border-bottom: 1px solid gray;flex-grow: 1;}#sk-container-id-2 div.sk-label:hover label.sk-toggleable__label {background-color: #d4ebff;}#sk-container-id-2 div.sk-serial::before {content: \"\";position: absolute;border-left: 1px solid gray;box-sizing: border-box;top: 0;bottom: 0;left: 50%;z-index: 0;}#sk-container-id-2 div.sk-serial {display: flex;flex-direction: column;align-items: center;background-color: white;padding-right: 0.2em;padding-left: 0.2em;position: relative;}#sk-container-id-2 div.sk-item {position: relative;z-index: 1;}#sk-container-id-2 div.sk-parallel {display: flex;align-items: stretch;justify-content: center;background-color: white;position: relative;}#sk-container-id-2 div.sk-item::before, #sk-container-id-2 div.sk-parallel-item::before {content: \"\";position: absolute;border-left: 1px solid gray;box-sizing: border-box;top: 0;bottom: 0;left: 50%;z-index: -1;}#sk-container-id-2 div.sk-parallel-item {display: flex;flex-direction: column;z-index: 1;position: relative;background-color: white;}#sk-container-id-2 div.sk-parallel-item:first-child::after {align-self: flex-end;width: 50%;}#sk-container-id-2 div.sk-parallel-item:last-child::after {align-self: flex-start;width: 50%;}#sk-container-id-2 div.sk-parallel-item:only-child::after {width: 0;}#sk-container-id-2 div.sk-dashed-wrapped {border: 1px dashed gray;margin: 0 0.4em 0.5em 0.4em;box-sizing: border-box;padding-bottom: 0.4em;background-color: white;}#sk-container-id-2 div.sk-label label {font-family: monospace;font-weight: bold;display: inline-block;line-height: 1.2em;}#sk-container-id-2 div.sk-label-container {text-align: center;}#sk-container-id-2 div.sk-container {/* jupyter's `normalize.less` sets `[hidden] { display: none; }` but bootstrap.min.css set `[hidden] { display: none !important; }` so we also need the `!important` here to be able to override the default hidden behavior on the sphinx rendered scikit-learn.org. See: https://github.com/scikit-learn/scikit-learn/issues/21755 */display: inline-block !important;position: relative;}#sk-container-id-2 div.sk-text-repr-fallback {display: none;}</style><div id=\"sk-container-id-2\" class=\"sk-top-container\"><div class=\"sk-text-repr-fallback\"><pre>RandomForestRegressor()</pre><b>In a Jupyter environment, please rerun this cell to show the HTML representation or trust the notebook. <br />On GitHub, the HTML representation is unable to render, please try loading this page with nbviewer.org.</b></div><div class=\"sk-container\" hidden><div class=\"sk-item\"><div class=\"sk-estimator sk-toggleable\"><input class=\"sk-toggleable__control sk-hidden--visually\" id=\"sk-estimator-id-2\" type=\"checkbox\" checked><label for=\"sk-estimator-id-2\" class=\"sk-toggleable__label sk-toggleable__label-arrow\">RandomForestRegressor</label><div class=\"sk-toggleable__content\"><pre>RandomForestRegressor()</pre></div></div></div></div></div>"
      ],
      "text/plain": [
       "RandomForestRegressor()"
      ]
     },
     "execution_count": 34,
     "metadata": {},
     "output_type": "execute_result"
    }
   ],
   "source": [
    "# from sklearn.tree import DecisionTreeRegressor\n",
    "# model = DecisionTreeRegressor() #14168.453924565109\n",
    "# from sklearn.linear_model import LinearRegression\n",
    "# model = LinearRegression() #13276.672420818435\n",
    "from sklearn.ensemble import RandomForestRegressor\n",
    "model = RandomForestRegressor() #11318.885464250312\n",
    "model.fit(x_train,y_train)"
   ]
  },
  {
   "cell_type": "code",
   "execution_count": 35,
   "id": "b8ed50c8",
   "metadata": {},
   "outputs": [
    {
     "data": {
      "text/plain": [
       "array([[2021, 1, 24],\n",
       "       [2013, 1, 11],\n",
       "       [2022, 2, 14],\n",
       "       [2022, 3, 9],\n",
       "       [2021, 1, 18]], dtype=object)"
      ]
     },
     "execution_count": 35,
     "metadata": {},
     "output_type": "execute_result"
    }
   ],
   "source": [
    "x_train[:5]"
   ]
  },
  {
   "cell_type": "code",
   "execution_count": 36,
   "id": "71340bdf",
   "metadata": {},
   "outputs": [],
   "source": [
    "someData = x_train[:5]\n",
    "someLables = y_train[:5]"
   ]
  },
  {
   "cell_type": "code",
   "execution_count": 37,
   "id": "2951a1fe",
   "metadata": {},
   "outputs": [
    {
     "data": {
      "text/plain": [
       "array([727068, 456209, 752740, 745782, 711987], dtype=int64)"
      ]
     },
     "execution_count": 37,
     "metadata": {},
     "output_type": "execute_result"
    }
   ],
   "source": [
    "someLables"
   ]
  },
  {
   "cell_type": "code",
   "execution_count": 38,
   "id": "b9953976",
   "metadata": {},
   "outputs": [
    {
     "data": {
      "text/plain": [
       "array([722737.19, 453562.31, 744484.89, 745746.83, 715847.77])"
      ]
     },
     "execution_count": 38,
     "metadata": {},
     "output_type": "execute_result"
    }
   ],
   "source": [
    "model.predict(someData)"
   ]
  },
  {
   "cell_type": "code",
   "execution_count": 39,
   "id": "184aaec0",
   "metadata": {},
   "outputs": [],
   "source": [
    "final_predictions = pd.DataFrame(model.predict(x_test))\n",
    "final_mse = mean_squared_error(y_test,final_predictions)\n",
    "final_rmse = np.sqrt(final_mse)"
   ]
  },
  {
   "cell_type": "code",
   "execution_count": 40,
   "id": "4be1c5b9",
   "metadata": {},
   "outputs": [
    {
     "data": {
      "text/plain": [
       "11267.815335413994"
      ]
     },
     "execution_count": 40,
     "metadata": {},
     "output_type": "execute_result"
    }
   ],
   "source": [
    "final_rmse"
   ]
  },
  {
   "cell_type": "code",
   "execution_count": 41,
   "id": "9f6bc71a",
   "metadata": {},
   "outputs": [],
   "source": [
    "# import joblib\n",
    "# joblib.dump(model,'Tourist_prediction')\n",
    "import pickle\n",
    "\n",
    "\n",
    "with open('Tourist_prediction.pkl', 'wb') as f:\n",
    "    pickle.dump(model, f)"
   ]
  },
  {
   "cell_type": "markdown",
   "id": "05120e13",
   "metadata": {},
   "source": [
    "# Testing"
   ]
  },
  {
   "cell_type": "code",
   "execution_count": 42,
   "id": "f0a6bcd2",
   "metadata": {},
   "outputs": [
    {
     "name": "stdout",
     "output_type": "stream",
     "text": [
      "[[2001 0 11]\n",
      " [2002 2 16]\n",
      " [2020 3 26]]\n",
      "           0\n",
      "0   31090.99\n",
      "1   55943.42\n",
      "2  688236.99\n"
     ]
    }
   ],
   "source": [
    "print(x_test[:3])\n",
    "print(final_predictions[:3])"
   ]
  },
  {
   "cell_type": "code",
   "execution_count": 43,
   "id": "dd97d2c2",
   "metadata": {},
   "outputs": [],
   "source": [
    "final_predictions.rename(columns={0:'predicted'},inplace=True)\n",
    "original_Prediction = pd.DataFrame(y_test)\n",
    "original_Prediction.rename(columns={0 :'original'},inplace = True)\n",
    "result = pd.concat([original_Prediction,final_predictions],axis=1)"
   ]
  },
  {
   "cell_type": "code",
   "execution_count": 44,
   "id": "47f47dff",
   "metadata": {},
   "outputs": [
    {
     "data": {
      "text/html": [
       "<div>\n",
       "<style scoped>\n",
       "    .dataframe tbody tr th:only-of-type {\n",
       "        vertical-align: middle;\n",
       "    }\n",
       "\n",
       "    .dataframe tbody tr th {\n",
       "        vertical-align: top;\n",
       "    }\n",
       "\n",
       "    .dataframe thead th {\n",
       "        text-align: right;\n",
       "    }\n",
       "</style>\n",
       "<table border=\"1\" class=\"dataframe\">\n",
       "  <thead>\n",
       "    <tr style=\"text-align: right;\">\n",
       "      <th></th>\n",
       "      <th>original</th>\n",
       "      <th>predicted</th>\n",
       "    </tr>\n",
       "  </thead>\n",
       "  <tbody>\n",
       "    <tr>\n",
       "      <th>0</th>\n",
       "      <td>29271</td>\n",
       "      <td>31090.99</td>\n",
       "    </tr>\n",
       "    <tr>\n",
       "      <th>1</th>\n",
       "      <td>59467</td>\n",
       "      <td>55943.42</td>\n",
       "    </tr>\n",
       "    <tr>\n",
       "      <th>2</th>\n",
       "      <td>693040</td>\n",
       "      <td>688236.99</td>\n",
       "    </tr>\n",
       "    <tr>\n",
       "      <th>3</th>\n",
       "      <td>89609</td>\n",
       "      <td>83973.48</td>\n",
       "    </tr>\n",
       "    <tr>\n",
       "      <th>4</th>\n",
       "      <td>646259</td>\n",
       "      <td>642028.08</td>\n",
       "    </tr>\n",
       "    <tr>\n",
       "      <th>...</th>\n",
       "      <td>...</td>\n",
       "      <td>...</td>\n",
       "    </tr>\n",
       "    <tr>\n",
       "      <th>506</th>\n",
       "      <td>329310</td>\n",
       "      <td>310063.37</td>\n",
       "    </tr>\n",
       "    <tr>\n",
       "      <th>507</th>\n",
       "      <td>399406</td>\n",
       "      <td>390650.49</td>\n",
       "    </tr>\n",
       "    <tr>\n",
       "      <th>508</th>\n",
       "      <td>579622</td>\n",
       "      <td>578578.77</td>\n",
       "    </tr>\n",
       "    <tr>\n",
       "      <th>509</th>\n",
       "      <td>233377</td>\n",
       "      <td>233497.62</td>\n",
       "    </tr>\n",
       "    <tr>\n",
       "      <th>510</th>\n",
       "      <td>474468</td>\n",
       "      <td>491287.20</td>\n",
       "    </tr>\n",
       "  </tbody>\n",
       "</table>\n",
       "<p>511 rows × 2 columns</p>\n",
       "</div>"
      ],
      "text/plain": [
       "     original  predicted\n",
       "0       29271   31090.99\n",
       "1       59467   55943.42\n",
       "2      693040  688236.99\n",
       "3       89609   83973.48\n",
       "4      646259  642028.08\n",
       "..        ...        ...\n",
       "506    329310  310063.37\n",
       "507    399406  390650.49\n",
       "508    579622  578578.77\n",
       "509    233377  233497.62\n",
       "510    474468  491287.20\n",
       "\n",
       "[511 rows x 2 columns]"
      ]
     },
     "execution_count": 44,
     "metadata": {},
     "output_type": "execute_result"
    }
   ],
   "source": [
    "result"
   ]
  },
  {
   "cell_type": "code",
   "execution_count": 45,
   "id": "f0361877",
   "metadata": {},
   "outputs": [
    {
     "name": "stdout",
     "output_type": "stream",
     "text": [
      "[155400.16]\n"
     ]
    }
   ],
   "source": [
    "import joblib\n",
    "\n",
    "# Load the model from the pickle file\n",
    "my_model = joblib.load('Tourist_prediction.pkl')\n",
    "\n",
    "# Making predictions on new data\n",
    "new_data = [[2005, 3, 0]]\n",
    "predicted_values = my_model.predict(new_data)\n",
    "\n",
    "# Displaying the prediction result\n",
    "print(predicted_values)\n"
   ]
  },
  {
   "cell_type": "code",
   "execution_count": 46,
   "id": "237dc3fa",
   "metadata": {},
   "outputs": [
    {
     "data": {
      "text/html": [
       "<div>\n",
       "<style scoped>\n",
       "    .dataframe tbody tr th:only-of-type {\n",
       "        vertical-align: middle;\n",
       "    }\n",
       "\n",
       "    .dataframe tbody tr th {\n",
       "        vertical-align: top;\n",
       "    }\n",
       "\n",
       "    .dataframe thead th {\n",
       "        text-align: right;\n",
       "    }\n",
       "</style>\n",
       "<table border=\"1\" class=\"dataframe\">\n",
       "  <thead>\n",
       "    <tr style=\"text-align: right;\">\n",
       "      <th></th>\n",
       "      <th>0</th>\n",
       "    </tr>\n",
       "  </thead>\n",
       "  <tbody>\n",
       "    <tr>\n",
       "      <th>0</th>\n",
       "      <td>155400.16</td>\n",
       "    </tr>\n",
       "  </tbody>\n",
       "</table>\n",
       "</div>"
      ],
      "text/plain": [
       "           0\n",
       "0  155400.16"
      ]
     },
     "execution_count": 46,
     "metadata": {},
     "output_type": "execute_result"
    }
   ],
   "source": [
    "pd.DataFrame(my_model.predict([[2005,3,0]]))"
   ]
  }
 ],
 "metadata": {
  "kernelspec": {
   "display_name": "Python 3 (ipykernel)",
   "language": "python",
   "name": "python3"
  },
  "language_info": {
   "codemirror_mode": {
    "name": "ipython",
    "version": 3
   },
   "file_extension": ".py",
   "mimetype": "text/x-python",
   "name": "python",
   "nbconvert_exporter": "python",
   "pygments_lexer": "ipython3",
   "version": "3.11.4"
  }
 },
 "nbformat": 4,
 "nbformat_minor": 5
}
